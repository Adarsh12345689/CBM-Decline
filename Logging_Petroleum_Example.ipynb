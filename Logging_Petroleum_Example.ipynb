{
  "nbformat": 4,
  "nbformat_minor": 0,
  "metadata": {
    "colab": {
      "provenance": [],
      "authorship_tag": "ABX9TyOUfVu+/Oc2tqlbpO6BN9eL",
      "include_colab_link": true
    },
    "kernelspec": {
      "name": "python3",
      "display_name": "Python 3"
    },
    "language_info": {
      "name": "python"
    }
  },
  "cells": [
    {
      "cell_type": "markdown",
      "metadata": {
        "id": "view-in-github",
        "colab_type": "text"
      },
      "source": [
        "<a href=\"https://colab.research.google.com/github/Adarsh12345689/CBM-Decline/blob/main/Logging_Petroleum_Example.ipynb\" target=\"_parent\"><img src=\"https://colab.research.google.com/assets/colab-badge.svg\" alt=\"Open In Colab\"/></a>"
      ]
    },
    {
      "cell_type": "code",
      "execution_count": null,
      "metadata": {
        "id": "7LTPijg2sHpJ"
      },
      "outputs": [],
      "source": [
        "# You are monitoring a CBM (Coal Bed Methane) production system, and you need to log warnings when water production exceeds 10 m³/day, and errors when it exceeds 20 m³/day.\n",
        "import logging\n",
        "\n",
        "# Configure logging\n",
        "logging.basicConfig(level=logging.INFO , format = \"%(asctime)s-%(levelname)s-%(message)s\")\n",
        "\n",
        "def monitor_production(water_production):\n",
        "    if water_production>20:\n",
        "        logging.error(f\"Water Production is too high : {water_production}m3/day\")\n",
        "    elif water_production >10:\n",
        "        logging.warning(f\"Water production is increasing: {water_production}m3/day\")\n",
        "    else:\n",
        "        logging.info(f\"Water production is normal:{water_production}m3/day\")\n",
        "\n",
        "# Test results  with different values\n",
        "monitor_production(25)\n",
        "monitor_production(18)\n",
        "monitor_production(9)"
      ]
    },
    {
      "cell_type": "code",
      "source": [
        "# A CBM well shuts in due to high casing pressure.Log the shut-in event with a timestamp, and save it to a file\n",
        "logging.basicConfig(\n",
        "    filename=\"well_shutdown.log\",\n",
        "    level=logging.INFO,\n",
        "    format=\"%(asctime)s-%(levelname)s-%(message)s\"\n",
        ")\n",
        "def log_well_shutdown(well_name,pressure):\n",
        "    logging.info(f\"Well{well_name} shut-in due to high casing pressure : {pressure}psi\")\n",
        "\n",
        "# Simulating a shutdown\n",
        "log_well_shutdown(\"EDI-115-V1\",70)\n",
        "log_well_shutdown(\"EDI-039-D3\",85)\n",
        "\n",
        "\n",
        "\n",
        "\n"
      ],
      "metadata": {
        "id": "KmfiTKzDsp4P"
      },
      "execution_count": null,
      "outputs": []
    },
    {
      "cell_type": "code",
      "source": [
        "# A CBM well shuts in due to high casing pressure.Log the shut-in event with a timestamp, and save it to a file\n",
        "logging.basicConfig(\n",
        "    filename=\"well_shutdown.log\",\n",
        "    level=logging.INFO,\n",
        "    format=\"%(asctime)s-%(levelname)s-%(message)s\"\n",
        ")\n",
        "def log_well_shutdown(well_name,pressure):\n",
        "    logging.info(f\"Well{well_name} shut-in due to high casing pressure : {pressure}psi\")\n",
        "\n",
        "# Simulating a shutdown\n",
        "log_well_shutdown(\"EDI-115-V1\",70)\n",
        "log_well_shutdown(\"EDI-039-D3\",85)\n",
        "\n",
        "\n",
        "\n",
        "\n"
      ],
      "metadata": {
        "id": "oiZOexDIste2"
      },
      "execution_count": null,
      "outputs": []
    }
  ]
}