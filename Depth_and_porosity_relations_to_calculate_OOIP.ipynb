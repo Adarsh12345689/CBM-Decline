{
  "nbformat": 4,
  "nbformat_minor": 0,
  "metadata": {
    "colab": {
      "provenance": [],
      "authorship_tag": "ABX9TyOVyO9hgwAUIhU6WJiC9eyi",
      "include_colab_link": true
    },
    "kernelspec": {
      "name": "python3",
      "display_name": "Python 3"
    },
    "language_info": {
      "name": "python"
    }
  },
  "cells": [
    {
      "cell_type": "markdown",
      "metadata": {
        "id": "view-in-github",
        "colab_type": "text"
      },
      "source": [
        "<a href=\"https://colab.research.google.com/github/Adarsh12345689/CBM-Decline/blob/main/Depth_and_porosity_relations_to_calculate_OOIP.ipynb\" target=\"_parent\"><img src=\"https://colab.research.google.com/assets/colab-badge.svg\" alt=\"Open In Colab\"/></a>"
      ]
    },
    {
      "cell_type": "code",
      "execution_count": null,
      "metadata": {
        "id": "_jO19TOrRLK3"
      },
      "outputs": [],
      "source": [
        "# How does reservoir depth and porosity affect initial oil in place , we will generate a heat map showing relationship between depth, porosity and OOIP\n",
        "import numpy as np\n",
        "import pandas as pd\n",
        "import seaborn as sns\n",
        "import matplotlib.pyplot as plt\n",
        "\n",
        "# Define reservoir parameters\n",
        "depth = np.linspace(5000,15000,10)\n",
        "porosity= np.linspace(0.05,0.30,10)\n",
        "\n",
        "# Create a dataframe to store results\n",
        "ooip_matrix = []\n",
        "\n",
        "# Define constraints\n",
        "area = 1000 # acres\n",
        "h = 50 #ft\n",
        "sw= 0.25\n",
        "bo= 1.2\n",
        "\n",
        "# Compute OOIP for each combination\n",
        "for dep in depth:\n",
        "    ooip_row = []\n",
        "    for por in porosity:\n",
        "        ooip = (7758*area*h*por*(1-sw))/bo\n",
        "        ooip_row.append(ooip)\n",
        "    ooip_matrix.append(ooip_row)\n",
        "\n",
        "# Convert list to Data Frame for better vizulizations\n",
        "ooip_df = pd.DataFrame(ooip_matrix, index= depth, columns = porosity)\n",
        "plt.figure(figsize=(10,6))\n",
        "sns.heatmap(ooip_df, cmap = \"coolwarm\")\n",
        "plt.xlabel(\"Porosity (Fraction)\")\n",
        "plt.ylabel(\"Reservoir Depth (ft)\")\n",
        "plt.title(\"Heatmap of OIIP vs. Reservoir Depth and Porosity\")"
      ]
    }
  ]
}